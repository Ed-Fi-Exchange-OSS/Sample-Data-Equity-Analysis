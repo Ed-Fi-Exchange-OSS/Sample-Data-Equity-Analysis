{
 "cells": [
  {
   "cell_type": "markdown",
   "metadata": {},
   "source": [
    "# Ed-Fi Sample Data Equity Analysis\n",
    "\n",
    "The Ed-Fi Alliance's sample data sets have realistic but fictional names,\n",
    "attached to realistic but fictional schools and local education agencies. Do\n",
    "these data sets unduly perpetuate any demographic biases or demographic skew\n",
    "with respect to key student indicators?\n",
    "\n",
    "These notebooks' analyses will point out if there are statistically significant\n",
    "deviations from the mean in key indicators with respect to the demographic\n",
    "categories. The question of interpretation is left to the reader: when is\n",
    "deviation from the mean a \"bias\"? And what, if anything, should be done about it?\n",
    "\n",
    "All labels come directly from the [Ed-Fi Data\n",
    "Standard](https://techdocs.ed-fi.org/x/JoWtBQ) or from the out-of-the-box\n",
    "[descriptors](https://techdocs.ed-fi.org/x/qQ-gBQ).\n",
    "\n",
    "Supported demographics†:\n",
    "\n",
    "* Disability\n",
    "* Sex (note: existing data sets do not distinguish gender and sex, and only \n",
    "  provide two options: male, female)\n",
    "* Hispanic Ethnicity\n",
    "* Language\n",
    "* Limited English Proficiency\n",
    "* Race\n",
    "* Tribal Affiliation\n",
    "\n",
    "<div class=\"alert alert-block alert-info\">\n",
    "† In the Ed-Fi Data Standard, these demographics are stored on the relationship\n",
    "to an education organization - which can be with a school, an LEA, or other.\n",
    "These sample data only use school or LEA relationships. <i>For more information on\n",
    "this distinction between School and LEA demographics, please see <a \n",
    "href=\"https://techdocs.ed-fi.org/x/CqwOB\">How to Use the Student Demographic \n",
    "Dimensions</a></i>.\n",
    "</div>\n",
    "\n",
    "Supported indicators:\n",
    "\n",
    "* **Attendance Rate**: based on \"negative attendance\" (assumed present unless marked\n",
    "  as absent: `(Enrolled Days - Days Absent) / Enrolled Days`\n",
    "* **Behavior**: number of disciplinary incidents reported during the school year\n",
    "* **Course Performance**: grade average over all sections\n",
    "\n",
    "This notebook remains relatively course-grained, in that it does not attempt\n",
    "to compare schools, grade levels, teachers, etc.\n",
    "\n",
    "## Acknowledgments and References\n",
    "\n",
    "Special thanks to Nancy Smith of [DataSmith Solutions,\n",
    "LLC](http://datasmithsolutions.com/aboutus.html) for review and constructive\n",
    "feedback on the first draft of this material, and to Shana Shaw\n",
    "of the [Michael & Susan Dell Foundation](https://www.dell.org) for advice\n",
    "on statistical inference.\n",
    "\n",
    "Ghasemi, Asghar, and Zahediasl, Saleh. [Normality Tests for Statistical Analysis: A Guide for\n",
    "Non-Statisticians](https://www.ncbi.nlm.nih.gov/pmc/articles/PMC3693611/). _Int J Endocrinol\n",
    "Metab_. 2012 Spring; 10(2): 486–489. Published online 2012 Apr 20. doi: 10.5812/ijem.3505.\n",
    "\n",
    "Cohen, Jacob. [Statistical Power Analysis for Behavior Sciences](https://www.google.com/books/edition/Statistical_Power_Analysis_for_the_Behav/2v9zDAsLvA0C). \n",
    "United States, Taylor & Francis, 2013.\n",
    "\n",
    "Lock, Patti Frazer, et al. [Statistics: Unlocking the Power of Data](https://www.lock5stat.com/).\n",
    "Third Edition. United States, Wiley, 2021.\n",
    "\n",
    "SciPy [API Reference](https://docs.scipy.org/doc/scipy/reference/index.html)\n",
    "\n",
    "\n",
    "## Usage\n",
    "\n",
    "1. Requires Python 3.9 or 3.10 and [Poetry](https://python-poetry.org/).\n",
    "1. You must have write access in a copy of an Ed-Fi ODS database, version 3.0 or newer.\n",
    "1. Install the relevant [Analytics Middle Tier](https://techdocs.ed-fi.org/x/V6gOB) \n",
    "   views. Sample command, using PowerShell:\n",
    "   \n",
    "   ```pwsh\n",
    "   $connString = \"server=localhost;database=EdFi_Ods_Populated_Template;trusted_connection=yes\"\n",
    "   ./EdFi.AnalyticsMiddleTier.Console.exe --connectionstring $connString --options equity\n",
    "   ```\n",
    "   \n",
    "1. Run cell 1, and follow the instructions to create two tables\n",
    "   based on queries that utilize the AMT views.\n",
    "1. Once the database is prepared, run cell 2, and follow the instructions\n",
    "   to execute the analysis process.\n",
    "1. (Optional), run cell 3 to drop the analysis tables in SQL Server."
   ]
  },
  {
   "cell_type": "code",
   "execution_count": 1,
   "metadata": {},
   "outputs": [
    {
     "data": {
      "text/markdown": [
       "## Prepare Database for Analysis"
      ],
      "text/plain": [
       "<IPython.core.display.Markdown object>"
      ]
     },
     "metadata": {},
     "output_type": "display_data"
    },
    {
     "data": {
      "text/markdown": [
       "Enter database connectivity information below and click the Prepare button to setup an `edfi_dei` schema and two new tables. ❗❗ This will fail if you have not install the required Analytics Middle Tier components."
      ],
      "text/plain": [
       "<IPython.core.display.Markdown object>"
      ]
     },
     "metadata": {},
     "output_type": "display_data"
    },
    {
     "data": {
      "text/html": [
       "\n",
       "<details>\n",
       "<summary>▶ <span style=\"color: blue\">Help for database settings</span></summary>\n",
       "<p>For Windows integrated security, leave the username blank. The password can only\n",
       "be set by environment variable. All of the fields can be controlled by environmental\n",
       "variables: simply set the variables before starting up Jupyter. The available variables\n",
       "are:</p>\n",
       "<ul>\n",
       "<li>DEI_SERVER</li>\n",
       "<li>DEI_PORT</li>\n",
       "<li>DEI_DATABASE</li>\n",
       "<li>DEI_USERNAME</li>\n",
       "<li>DEI_PASSWORD</li>\n",
       "<li>DEI_ENCRYPT</li>\n",
       "<li>DEI_TRUST_CERTIFICATE</li>\n",
       "</ul>\n",
       "</details>\n"
      ],
      "text/plain": [
       "<IPython.core.display.HTML object>"
      ]
     },
     "metadata": {},
     "output_type": "display_data"
    },
    {
     "data": {
      "application/vnd.jupyter.widget-view+json": {
       "model_id": "ea93d41b4e314d7ab3185c7372628ca1",
       "version_major": 2,
       "version_minor": 0
      },
      "text/plain": [
       "Text(value='localhost', description='Server:')"
      ]
     },
     "metadata": {},
     "output_type": "display_data"
    },
    {
     "data": {
      "application/vnd.jupyter.widget-view+json": {
       "model_id": "9e7d6252ab5c43eb879a7eedc6648c4d",
       "version_major": 2,
       "version_minor": 0
      },
      "text/plain": [
       "Text(value='1433', description='Port:')"
      ]
     },
     "metadata": {},
     "output_type": "display_data"
    },
    {
     "data": {
      "application/vnd.jupyter.widget-view+json": {
       "model_id": "9b9b625e792f456da5dcce790b583cb9",
       "version_major": 2,
       "version_minor": 0
      },
      "text/plain": [
       "Text(value='EdFi_Ods_Glendale_v50', description='Database:')"
      ]
     },
     "metadata": {},
     "output_type": "display_data"
    },
    {
     "data": {
      "application/vnd.jupyter.widget-view+json": {
       "model_id": "5e8b56079af9480dba0d9870eb9c0e81",
       "version_major": 2,
       "version_minor": 0
      },
      "text/plain": [
       "Text(value='', description='Username:')"
      ]
     },
     "metadata": {},
     "output_type": "display_data"
    },
    {
     "data": {
      "application/vnd.jupyter.widget-view+json": {
       "model_id": "b0abe85c24a74662adeef476d179722b",
       "version_major": 2,
       "version_minor": 0
      },
      "text/plain": [
       "Checkbox(value=False, description='Use encrypted connection')"
      ]
     },
     "metadata": {},
     "output_type": "display_data"
    },
    {
     "data": {
      "application/vnd.jupyter.widget-view+json": {
       "model_id": "6808340b4acf4ab9a1ef7191699a39fe",
       "version_major": 2,
       "version_minor": 0
      },
      "text/plain": [
       "Checkbox(value=True, description='Trust self-signed certificate')"
      ]
     },
     "metadata": {},
     "output_type": "display_data"
    },
    {
     "data": {
      "application/vnd.jupyter.widget-view+json": {
       "model_id": "7ade9970a3e04d13b2cb92daaa06da34",
       "version_major": 2,
       "version_minor": 0
      },
      "text/plain": [
       "Checkbox(value=False, description='Install equity analysis tables')"
      ]
     },
     "metadata": {},
     "output_type": "display_data"
    },
    {
     "data": {
      "application/vnd.jupyter.widget-view+json": {
       "model_id": "48471727fe964892afe1e7495eda5f2c",
       "version_major": 2,
       "version_minor": 0
      },
      "text/plain": [
       "Button(button_style='primary', description='Prepare database connection', style=ButtonStyle())"
      ]
     },
     "metadata": {},
     "output_type": "display_data"
    },
    {
     "data": {
      "application/vnd.jupyter.widget-view+json": {
       "model_id": "d45713b20cae442dbfbc0cfed04eae6e",
       "version_major": 2,
       "version_minor": 0
      },
      "text/plain": [
       "Output()"
      ]
     },
     "metadata": {},
     "output_type": "display_data"
    }
   ],
   "source": [
    "from sample_data_equity_analysis.notebook_ui import (setup_database_prep, setup_analysis_options, setup_cleanup)\n",
    "\n",
    "setup_database_prep()"
   ]
  },
  {
   "cell_type": "code",
   "execution_count": 2,
   "metadata": {
    "scrolled": false
   },
   "outputs": [
    {
     "data": {
      "text/markdown": [
       "## Choose What to Analyze"
      ],
      "text/plain": [
       "<IPython.core.display.Markdown object>"
      ]
     },
     "metadata": {},
     "output_type": "display_data"
    },
    {
     "data": {
      "application/vnd.jupyter.widget-view+json": {
       "model_id": "2eafd35661dc41118f5e9522d24b16d8",
       "version_major": 2,
       "version_minor": 0
      },
      "text/plain": [
       "RadioButtons(description='Student relationship:', options=('School', 'Local Education Agency'), value='School'…"
      ]
     },
     "metadata": {},
     "output_type": "display_data"
    },
    {
     "data": {
      "application/vnd.jupyter.widget-view+json": {
       "model_id": "fedaa5da11e4469b88d0b249cc162782",
       "version_major": 2,
       "version_minor": 0
      },
      "text/plain": [
       "RadioButtons(description='Measure:', options=('Attendance Rate', 'Behavior', 'Course Performance'), value='Att…"
      ]
     },
     "metadata": {},
     "output_type": "display_data"
    },
    {
     "data": {
      "application/vnd.jupyter.widget-view+json": {
       "model_id": "2e5e63287dd045049bec4620fc055178",
       "version_major": 2,
       "version_minor": 0
      },
      "text/plain": [
       "Button(button_style='primary', description='Run analysis', style=ButtonStyle())"
      ]
     },
     "metadata": {},
     "output_type": "display_data"
    },
    {
     "data": {
      "application/vnd.jupyter.widget-view+json": {
       "model_id": "578cfdb6b72a444c9c1ea6ed2da91517",
       "version_major": 2,
       "version_minor": 0
      },
      "text/plain": [
       "Output()"
      ]
     },
     "metadata": {},
     "output_type": "display_data"
    },
    {
     "data": {
      "text/markdown": [
       "## Attendance Rate Analysis for Schools"
      ],
      "text/plain": [
       "<IPython.core.display.Markdown object>"
      ]
     },
     "metadata": {},
     "output_type": "display_data"
    },
    {
     "data": {
      "text/markdown": [
       "\n",
       "The following chart contains a histogram of the Attendance Rate for the entire student body, \n",
       "with an overlay of the \n",
       "[kernel density estimation](https://en.wikipedia.org/wiki/Kernel_density_estimation)\n",
       "curve for the sample distribution.\n"
      ],
      "text/plain": [
       "<IPython.core.display.Markdown object>"
      ]
     },
     "metadata": {},
     "output_type": "display_data"
    },
    {
     "data": {
      "application/vnd.jupyter.widget-view+json": {
       "model_id": "7400934fcafd472e8e9001a2be6bd61a",
       "version_major": 2,
       "version_minor": 0
      },
      "text/plain": [
       "Output()"
      ]
     },
     "metadata": {},
     "output_type": "display_data"
    },
    {
     "data": {
      "text/markdown": [
       "\n",
       "Below, we will visually inspect relationships with the help of box plots and\n",
       "then look at T-test (comparing two samples) and ANOVA (comparing more than two\n",
       "samples) results to help determine if there are statistically significant\n",
       "differences between the results for different populations. These tests are\n",
       "appropriate when:\n",
       "\n",
       "* Samples are independent (groups are mutually exclusive)\n",
       "* Normal looking: sample size >= 30, or p > 0.05 in a test of normality \n",
       "* For ANOVA, variances should be \"equal\". The analysis will reject \n",
       "  the standard one-way ANOVA if there is too much variation in variances / standard \n",
       "  deviations. In that case, we will turn to the Kruskal-Wallis test. \n",
       "  * Both test types, Anova and Kruskal-Wallis, will use 0.05 as the significance \n",
       "    level when evaluating the p-value result.\n",
       "* The T-test will be calculated using Welch's test, which accounts for unequal \n",
       "  variances. \n",
       "\n",
       "ANOVA tests will show _that there are differences_ without specifying _which_\n",
       "samples standout from the group. For that, we will perform _post hoc_ analysis\n",
       "using [Tukey's method](https://statisticsbyjim.com/anova/post-hoc-tests-anova/).\n",
       "\n",
       "For both the T-Test and ANOVA, when the null hypothesis is not supported, \n",
       "the notebook will calculate [Cohen's D](https://en.wikipedia.org/wiki/Effect_size#Cohen's_d)\n",
       "to give a sense of the overall effect size.\n"
      ],
      "text/plain": [
       "<IPython.core.display.Markdown object>"
      ]
     },
     "metadata": {},
     "output_type": "display_data"
    },
    {
     "data": {
      "text/markdown": [
       "### Attendance Rate by Race"
      ],
      "text/plain": [
       "<IPython.core.display.Markdown object>"
      ]
     },
     "metadata": {},
     "output_type": "display_data"
    },
    {
     "data": {
      "application/vnd.jupyter.widget-view+json": {
       "model_id": "4dacd3f694534ecc85b3fa43494bb188",
       "version_major": 2,
       "version_minor": 0
      },
      "text/plain": [
       "Output()"
      ]
     },
     "metadata": {},
     "output_type": "display_data"
    },
    {
     "data": {
      "text/markdown": [
       "### Attendance Rate by Hispanic/Latino Ethnicity"
      ],
      "text/plain": [
       "<IPython.core.display.Markdown object>"
      ]
     },
     "metadata": {},
     "output_type": "display_data"
    },
    {
     "data": {
      "application/vnd.jupyter.widget-view+json": {
       "model_id": "9661593df29e4489b02c67617910ed9d",
       "version_major": 2,
       "version_minor": 0
      },
      "text/plain": [
       "Output()"
      ]
     },
     "metadata": {},
     "output_type": "display_data"
    },
    {
     "data": {
      "text/markdown": [
       "### Attendance Rate by English Proficiency"
      ],
      "text/plain": [
       "<IPython.core.display.Markdown object>"
      ]
     },
     "metadata": {},
     "output_type": "display_data"
    },
    {
     "data": {
      "application/vnd.jupyter.widget-view+json": {
       "model_id": "c51395b77395410aa15514539ea635ed",
       "version_major": 2,
       "version_minor": 0
      },
      "text/plain": [
       "Output()"
      ]
     },
     "metadata": {},
     "output_type": "display_data"
    },
    {
     "data": {
      "text/markdown": [
       "### Attendance Rate by Sex/Gender"
      ],
      "text/plain": [
       "<IPython.core.display.Markdown object>"
      ]
     },
     "metadata": {},
     "output_type": "display_data"
    },
    {
     "data": {
      "application/vnd.jupyter.widget-view+json": {
       "model_id": "a0b7d107cf974d96864abecd94b1cb81",
       "version_major": 2,
       "version_minor": 0
      },
      "text/plain": [
       "Output()"
      ]
     },
     "metadata": {},
     "output_type": "display_data"
    },
    {
     "data": {
      "text/markdown": [
       "### Attendance Rate by Disability"
      ],
      "text/plain": [
       "<IPython.core.display.Markdown object>"
      ]
     },
     "metadata": {},
     "output_type": "display_data"
    },
    {
     "data": {
      "application/vnd.jupyter.widget-view+json": {
       "model_id": "24d0e49800bb42daa78690850024e02a",
       "version_major": 2,
       "version_minor": 0
      },
      "text/plain": [
       "Output()"
      ]
     },
     "metadata": {},
     "output_type": "display_data"
    },
    {
     "data": {
      "text/markdown": [
       "### Attendance Rate by Language"
      ],
      "text/plain": [
       "<IPython.core.display.Markdown object>"
      ]
     },
     "metadata": {},
     "output_type": "display_data"
    },
    {
     "data": {
      "application/vnd.jupyter.widget-view+json": {
       "model_id": "3d993e5193e74f64b15214c6dde2ab93",
       "version_major": 2,
       "version_minor": 0
      },
      "text/plain": [
       "Output()"
      ]
     },
     "metadata": {},
     "output_type": "display_data"
    },
    {
     "data": {
      "text/markdown": [
       "### Attendance Rate by Tribal Affiliation"
      ],
      "text/plain": [
       "<IPython.core.display.Markdown object>"
      ]
     },
     "metadata": {},
     "output_type": "display_data"
    },
    {
     "data": {
      "application/vnd.jupyter.widget-view+json": {
       "model_id": "83e5befc8da94a49a455f4b99b3a6f0b",
       "version_major": 2,
       "version_minor": 0
      },
      "text/plain": [
       "Output()"
      ]
     },
     "metadata": {},
     "output_type": "display_data"
    }
   ],
   "source": [
    "setup_analysis_options()"
   ]
  },
  {
   "cell_type": "code",
   "execution_count": 3,
   "metadata": {},
   "outputs": [
    {
     "data": {
      "text/markdown": [
       "## Cleanup"
      ],
      "text/plain": [
       "<IPython.core.display.Markdown object>"
      ]
     },
     "metadata": {},
     "output_type": "display_data"
    },
    {
     "data": {
      "text/markdown": [
       "Click the button below to remove the two temporary tables, `edfi_dei.leaStudents` and `edfi_dei.schoolStudents`. If you have not finished running all of the desired analyses, then it may be preferable to skip this step. Once you have run this, you must select the 'Install equity analysis tables' option to re-install the tables."
      ],
      "text/plain": [
       "<IPython.core.display.Markdown object>"
      ]
     },
     "metadata": {},
     "output_type": "display_data"
    },
    {
     "data": {
      "application/vnd.jupyter.widget-view+json": {
       "model_id": "8071ecb8e568442b8485bf36aec2c4dd",
       "version_major": 2,
       "version_minor": 0
      },
      "text/plain": [
       "Button(button_style='primary', description='Cleanup the database', style=ButtonStyle())"
      ]
     },
     "metadata": {},
     "output_type": "display_data"
    },
    {
     "data": {
      "application/vnd.jupyter.widget-view+json": {
       "model_id": "3ca7aea33fe54ecab876d12387930146",
       "version_major": 2,
       "version_minor": 0
      },
      "text/plain": [
       "Output()"
      ]
     },
     "metadata": {},
     "output_type": "display_data"
    }
   ],
   "source": [
    "setup_cleanup()"
   ]
  }
 ],
 "metadata": {
  "kernelspec": {
   "display_name": "Python 3 (ipykernel)",
   "language": "python",
   "name": "python3"
  },
  "language_info": {
   "codemirror_mode": {
    "name": "ipython",
    "version": 3
   },
   "file_extension": ".py",
   "mimetype": "text/x-python",
   "name": "python",
   "nbconvert_exporter": "python",
   "pygments_lexer": "ipython3",
   "version": "3.9.9"
  },
  "vscode": {
   "interpreter": {
    "hash": "9a7ed0dd4796851ed7bc40a9549c4290f6eef6f6e9a8e75642823494190143f1"
   }
  }
 },
 "nbformat": 4,
 "nbformat_minor": 2
}
